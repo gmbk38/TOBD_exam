{
 "cells": [
  {
   "cell_type": "markdown",
   "id": "1278b2fe",
   "metadata": {},
   "source": [
    "# Табличные данные и взаимодействие с Excel"
   ]
  },
  {
   "cell_type": "markdown",
   "id": "cbe493ce",
   "metadata": {},
   "source": [
    "__Автор задач: Блохин Н.В. (NVBlokhin@fa.ru)__\n",
    "\n",
    "Материалы:\n",
    "* Макрушин С.В. Лекция \"Табличные данные и взаимодействие с Excel\"\n",
    "* https://docs.xlwings.org/en/stable/quickstart.html\n",
    "* https://nbviewer.org/github/pybokeh/jupyter_notebooks/blob/main/xlwings/Excel_Formatting.ipynb\n",
    "* https://xlsxwriter.readthedocs.io/\n",
    "* https://xlsxwriter.readthedocs.io/working_with_conditional_formats.html\n",
    "* https://xlsxwriter.readthedocs.io/example_conditional_format.html\n",
    "* https://ru.excelfunctions.eu/\n",
    "* https://docs.python.org/3/library/csv.html\n",
    "* https://pandas.pydata.org/docs/reference/api/pandas.DataFrame.plot\n",
    "* https://analysistabs.com/excel-vba/colorindex/"
   ]
  },
  {
   "cell_type": "code",
   "execution_count": 1,
   "id": "b2505323",
   "metadata": {},
   "outputs": [
    {
     "name": "stdout",
     "output_type": "stream",
     "text": [
      "Requirement already satisfied: xlsxwriter in c:\\users\\user\\appdata\\local\\packages\\pythonsoftwarefoundation.python.3.8_qbz5n2kfra8p0\\localcache\\local-packages\\python38\\site-packages (3.0.3)\n",
      "\n",
      "[notice] A new release of pip available: 22.1.2 -> 22.3.1\n",
      "[notice] To update, run: C:\\Users\\User\\AppData\\Local\\Microsoft\\WindowsApps\\PythonSoftwareFoundation.Python.3.8_qbz5n2kfra8p0\\python.exe -m pip install --upgrade pip\n",
      "Note: you may need to restart the kernel to use updated packages.\n"
     ]
    }
   ],
   "source": [
    "pip install xlsxwriter"
   ]
  },
  {
   "cell_type": "markdown",
   "id": "944e06a8",
   "metadata": {},
   "source": [
    "## Задачи для совместного разбора"
   ]
  },
  {
   "cell_type": "code",
   "execution_count": 2,
   "id": "00784884",
   "metadata": {},
   "outputs": [],
   "source": [
    "import xlsxwriter\n",
    "import xlwings as xw\n",
    "import numpy as np\n",
    "import pandas as pd\n",
    "import csv"
   ]
  },
  {
   "cell_type": "markdown",
   "id": "23ba14c9",
   "metadata": {},
   "source": [
    "1. Создать файл `demo.xlsx` при помощи пакета `xlswriter` на основе данных из файла `costs.csv`."
   ]
  },
  {
   "cell_type": "code",
   "execution_count": 3,
   "id": "829e7825",
   "metadata": {},
   "outputs": [],
   "source": [
    "workbook = xlsxwriter.Workbook('demo.xlsx')\n",
    "worksheet = workbook.add_worksheet('Рецептура')\n",
    "\n",
    "# Some data we want to write to the worksheet.\n",
    "\n",
    "row = 0\n",
    "col = 0\n",
    "\n",
    "data = []\n",
    "\n",
    "for line in open('costs.csv', 'r', encoding='UTF-8'):\n",
    "    data.append(str(line).split())\n",
    "\n",
    "worksheet.write(row, col, ' ')\n",
    "\n",
    "col += 1\n",
    "\n",
    "for item in (data[0])[:5]:\n",
    "    worksheet.write(row, col, item)\n",
    "    col += 1\n",
    "\n",
    "worksheet.write(row, col, f'{data[0][6]} {data[0][7]}')\n",
    "col += 1\n",
    "worksheet.write(row, col, f'{data[0][8]} {data[0][9]}')\n",
    "col += 1\n",
    "\n",
    "row += 1\n",
    "\n",
    "for el in data[1:]:\n",
    "    if row == 4:\n",
    "        worksheet.write(row, 0, f'{el[0]}')\n",
    "        worksheet.write_number(row, 1, float(el[1]))\n",
    "        col = 2\n",
    "    else: \n",
    "        worksheet.write(row, 0, f'{el[0]} {el[1]}')\n",
    "        col = 1\n",
    "    for item in el[2:]:\n",
    "        worksheet.write_number(row, col, float(item))\n",
    "        col += 1\n",
    "    row += 1"
   ]
  },
  {
   "cell_type": "markdown",
   "id": "58ed296b",
   "metadata": {},
   "source": [
    "2. На листе \"Рецептура\" файла `demo.xlsx` рассчитать себестоимость всех видов продукции. Результаты расчетов сохранить в отдельном столбце."
   ]
  },
  {
   "cell_type": "code",
   "execution_count": 4,
   "id": "fddad4de",
   "metadata": {},
   "outputs": [],
   "source": [
    "worksheet.write('I1', 'Суммарно')\n",
    "for row in range(2,7):\n",
    "    worksheet.write_formula(f'I{row}', f'=SUM(B{row}:H{row})')\n",
    "\n",
    "# workbook.close()"
   ]
  },
  {
   "cell_type": "markdown",
   "id": "17422db2",
   "metadata": {},
   "source": [
    "3. Выполнить 2 с помощью \"протягиваемых\" формул."
   ]
  },
  {
   "cell_type": "code",
   "execution_count": 5,
   "id": "02f55325",
   "metadata": {},
   "outputs": [
    {
     "data": {
      "text/plain": [
       "0"
      ]
     },
     "execution_count": 5,
     "metadata": {},
     "output_type": "execute_result"
    }
   ],
   "source": [
    "worksheet.write_formula('I1:I6', '=SUM(B2:H6)')\n",
    "worksheet.write('I1', 'Суммарно')\n",
    "# workbook.close()"
   ]
  },
  {
   "cell_type": "markdown",
   "id": "6ff0c246",
   "metadata": {},
   "source": [
    "4. Добавить общий заголовок и доработать форматирование новых столбцов"
   ]
  },
  {
   "cell_type": "code",
   "execution_count": 6,
   "id": "64f68f91",
   "metadata": {},
   "outputs": [],
   "source": [
    "worksheet.set_column('A:A', 20)\n",
    "worksheet.set_column('B:I', 15)\n",
    "\n",
    "cell_format = workbook.add_format({'bold': True})\n",
    "worksheet.set_row(0, None, cell_format)\n",
    "\n",
    "workbook.close()"
   ]
  },
  {
   "cell_type": "markdown",
   "id": "0e143f0d",
   "metadata": {},
   "source": [
    "## Лабораторная работа 4"
   ]
  },
  {
   "cell_type": "markdown",
   "id": "4c521f29",
   "metadata": {},
   "source": [
    "1. При помощи пакета `xlsxwriter` создайте рабочую книгу под названием `recipes_model.xlsx`. \n",
    "Добавьте лист с названием \"Модель\". В первой строчке листа разместите следующие названия колонок: `\"Сущность\", \"Атрибут\", \"Тип данных\", \"Обязательно к заполнению\", \"Описание сущности\", \"Описание атрибута\", \"Ключ\", \"Таблица для ссылки\", \"Поле для ссылки\", \"SQL\"`.\n",
    "\n",
    "* Не закрывайте рабочую книгу, она потребуется для выполнения следующего задания."
   ]
  },
  {
   "cell_type": "code",
   "execution_count": 7,
   "id": "81ef7db7",
   "metadata": {},
   "outputs": [],
   "source": [
    "workbook = xlsxwriter.Workbook('recipes_model.xlsx')\n",
    "worksheet = workbook.add_worksheet('Модель')\n",
    "\n",
    "headers = [\"Сущность\", \"Атрибут\", \"Тип данных\", \"Обязательно к заполнению\", \"Описание сущности\", \"Описание атрибута\", \"Ключ\", \"Таблица для ссылки\", \"Поле для ссылки\", \"SQL\"]\n",
    "\n",
    "for header in headers:\n",
    "    worksheet.write(0 ,headers.index(header), header)\n",
    "\n",
    "# workbook.close()"
   ]
  },
  {
   "cell_type": "markdown",
   "id": "c755416d",
   "metadata": {},
   "source": [
    "2. При помощи пакета `xlsxwriter` добавьте условное форматирование на лист \"Модель\":\n",
    "* если в ячейке столбца `G` указано значение \"PK\", то сделать заливку ячейки цвета  `#006600`, а цвет шрифта - `#fffff`.\n",
    "* если в ячейке столбца `G` указано значение \"FK\", то сделать заливку ячейки цвета  `#cccc00`, а цвет шрифта - `#000000`.\n",
    "\n",
    "Примените данные правила к диапазону `G2:G50`. Закройте рабочую книгу."
   ]
  },
  {
   "cell_type": "code",
   "execution_count": 8,
   "id": "bf27b8be",
   "metadata": {},
   "outputs": [],
   "source": [
    "# green = workbook.add_format({'color': 'green'})\n",
    "# bold_red = workbook.add_format({'bold': True, 'color': 'red'})\n",
    "# worksheet.write_rich_string('A1', green,\n",
    "#                             'hello ',\n",
    "#                             bold_red, 'this is bold_red', # style\n",
    "#                             ' and default string')\n",
    "\n",
    "cell_format_PK = workbook.add_format({'font_color': '#fffff', 'bg_color': '#006600'})\n",
    "cell_format_FK = workbook.add_format({'font_color': '#000000', 'bg_color': '#cccc00'})\n",
    "\n",
    "\n",
    "worksheet.conditional_format('G2:G50', {'type':'cell',\n",
    "                                    'criteria':'equal to',\n",
    "                                    'value':'\"PK\"',\n",
    "                                    'format':cell_format_PK})\n",
    "worksheet.conditional_format('G2:G50', {'type':'cell',\n",
    "                                    'criteria':'equal to',\n",
    "                                    'value':'\"FK\"',\n",
    "                                    'format':cell_format_FK})\n",
    "\n",
    "# for i in range (2,51):\n",
    "#     if worksheet.table.get(f'G{i}', None) == 'PK':\n",
    "#         worksheet.write(i, 'G', 'PK', cell_format_PK)\n",
    "#     if worksheet.table.get(f'G{i}', None) == 'FK':\n",
    "#         worksheet.write(i, 'G', 'FK', cell_format_FK)\n",
    "\n",
    "\n",
    "workbook.close()"
   ]
  },
  {
   "cell_type": "markdown",
   "id": "584dd57e",
   "metadata": {},
   "source": [
    "3. В файле `recipes_model.csv` находится модель данных предметной области \"рецепты\". При помощи пакета `csv` считайте эти данные. При помощи пакета `xlwings` запишите данные на лист `Модель` книги `recipes_model.xlsx`, начиная с ячейки `A2`, не используя циклы. Сделайте скриншот текущего состояния листа и прикрепите в ячейку ноутбука. "
   ]
  },
  {
   "cell_type": "code",
   "execution_count": 9,
   "id": "f6aad8a9",
   "metadata": {},
   "outputs": [],
   "source": [
    "import pandas as pd\n",
    "wb = xw.Book('recipes_model.xlsx')\n",
    "model = wb.sheets['Модель']\n",
    "\n",
    "with open('recipes_model.csv', newline='',  encoding='utf-8') as csvfile:\n",
    "    reader = csv.reader(csvfile, delimiter='\\t')\n",
    "    # col = 1\n",
    "    # row = 2\n",
    "    # for line in reader:\n",
    "    #     col = 1\n",
    "    #     for el in line[0].replace('\\t', ',').split(','):\n",
    "    #         if el == '':\n",
    "    #             model.range(row, col).value = ' '\n",
    "    #         else:\n",
    "    #             model.range(row, col).value = el\n",
    "    #         col += 1\n",
    "    #     row += 1\n",
    "    data = pd.DataFrame(reader)\n",
    "\n",
    "model.range('A2').options(index=False, header=False).value = data\n",
    "\n",
    "\n",
    "# wb.save()\n",
    "# wb.close()"
   ]
  },
  {
   "cell_type": "markdown",
   "id": "45b57600",
   "metadata": {},
   "source": [
    "4. При помощи пакета `xlwings` добавьте в столбец J формулу для описания столбца на языке SQL. Формула должна реализовывать следующую логику:\n",
    "\n",
    "    1\\. в начале строки идут значения из столбцов В и C (значение столбца С приведено к верхнему регистру), разделенные пробелом\n",
    "    \n",
    "    2\\. далее идут слова на основе столбца \"Ключ\"\n",
    "        2.1 если в столбце \"Ключ\" указано значение \"PK\", то дальше через пробел идет ключевое слово \"PRIMARY KEY\"\n",
    "        2.2 если в столбце \"Ключ\" указано значение \"FK\", то дальше через пробел идет ключевое слово \"REFERENCES\", затем значения столбцов H и I в формате \"название_таблицы(название_столбца)\"\n",
    "        \n",
    "    3\\. если в столбце \"Обязательно к заполнению\" указано значение \"Y\" и в столбце \"Ключ\" указано не \"PK\", то дальше через пробел идет ключевое слово \"NOT NULL\".\n",
    "\n",
    "Заполните этой формулой необходимое количество строк, используя \"протягивание\". Количество строк для протягивания определите на основе данных.\n",
    "\n",
    "Сделайте скриншот текущего состояния листа и прикрепите в ячейку ноутбука."
   ]
  },
  {
   "cell_type": "code",
   "execution_count": 10,
   "id": "2ea82d0a",
   "metadata": {},
   "outputs": [],
   "source": [
    "# from xlwings.ext.sql import sql\n",
    "\n",
    "# workbook = xw.Book('recipes_model.xlsx')\n",
    "\n",
    "# t1 = workbook.sheets['Модель']['B1:I18'].value\n",
    "\n",
    "\n",
    "# workbook.sheets['Модель']['J1'].value= sql(\"\"\"\n",
    "# select Атрибут ' ' upper(`Тип данных`)||' '|| \n",
    "# (case when Ключ='PK' then 'PRIMARY KEY' when Ключ='FK' then \n",
    "# ('REFERENCES' ' ' Таблица для ссылки '(' Поле для ссылки  ')')  else '' end) ||' '\n",
    "# (case when `Обязательно к заполнению`='Y' and (Ключ<>'PK' or Ключ is null) then 'NOT NULL' else '' end)  \n",
    "# from a\"\"\", t1)\n",
    "# workbook.sheets['Модель']['J1'].value = ('SQL')\n",
    "\n",
    "# workbook.close()"
   ]
  },
  {
   "cell_type": "markdown",
   "id": "61a9a3a6",
   "metadata": {},
   "source": [
    "5. При помощи пакета `xlwings` измените стилизацию листа `Модель`.\n",
    "* для заголовков добавьте заливку цвета `00ccff`\n",
    "* примените автоподбор ширины столбца;\n",
    "* сделайте шрифт заголовков полужирным;\n",
    "* добавьте таблице автофильтр.\n",
    "\n",
    "Сделайте скриншот текущего состояния листа и прикрепите в ячейку ноутбука."
   ]
  },
  {
   "cell_type": "code",
   "execution_count": 11,
   "id": "a7192f8c",
   "metadata": {},
   "outputs": [],
   "source": [
    "xw.Range('A1:J1').color = ('#00ccff')\n",
    "xw.Range('A:J').autofit()\n",
    "xw.Range('A1:J1').font.bold = True\n",
    "# xw.Range('A1').wrap_text = True\n",
    "\n",
    "# wb.save()\n",
    "# wb.close()"
   ]
  },
  {
   "cell_type": "markdown",
   "id": "166b8eb2",
   "metadata": {},
   "source": [
    "6. В данных, полученных из файла `recipes_model.csv`, имеются ошибки двух видов:\n",
    "\n",
    "    1\\. Для некоторых полей, указанных как первичный ключ, в столбце \"Обязательно к заполнению\" стоит значение \"N\";\n",
    "\n",
    "    2\\. Для некоторых полей, указанных как внешний ключ, не указана таблица для ссылки и поле для ссылки.\n",
    "\n",
    "Получите данные из листа в виде `pd.DataFrame`. Найдите строки на листе, которые содержат ошибки первого или второго рода и сделайте заливку эти строк цвета `(255, 102, 102)`. Сделайте скриншот текущего состояния листа и прикрепите в ячейку ноутбука."
   ]
  },
  {
   "cell_type": "code",
   "execution_count": 12,
   "id": "c73b068f",
   "metadata": {},
   "outputs": [],
   "source": [
    "ERR1 = []\n",
    "ERR2 = []\n",
    "\n",
    "counter = 2\n",
    "for el in data[3]:\n",
    "    if el == 'N':\n",
    "        xw.Range(f'D{counter}').color = (255, 102, 102)\n",
    "        ERR1.append(f'D{counter}')\n",
    "    counter += 1\n",
    "\n",
    "counter = 2\n",
    "for el in data[7]:\n",
    "    if len(el) == 0:\n",
    "        xw.Range(f'H{counter}').color = (255, 102, 102)\n",
    "        ERR2.append(f'H{counter}')\n",
    "    counter += 1\n",
    "\n",
    "counter = 2\n",
    "for el in data[8]:\n",
    "    if len(el) == 0:\n",
    "        xw.Range(f'I{counter}').color = (255, 102, 102)\n",
    "        ERR2.append(f'I{counter}')\n",
    "    counter += 1\n",
    "\n",
    "wb.save()\n",
    "wb.close()"
   ]
  },
  {
   "cell_type": "markdown",
   "id": "ff3b9d65",
   "metadata": {},
   "source": [
    "7. При помощи пакета `xlwings` создайте лист с названием `Ошибки заполнения`. \n",
    "\n",
    "Поместите в первой строчке этого листа заголовки \"№ строки\" и \"Ошибка\". Заполните лист на основе решения задачи 6. В столбце \"№ строки\" укажите номер строки с листа `Модель`, содержащую ошибку, а в столбце \"Ошибка\" для ошибок первого рода напишите сообщение \"Первичный ключ не может быть NULL\", для ошибок второго рода - \"Не указано поле для связи по внешнему ключу\". Сделайте скриншот состояния листа `Ошибки заполнения` и прикрепите в ячейку ноутбука. "
   ]
  },
  {
   "cell_type": "code",
   "execution_count": 13,
   "id": "698efcd1",
   "metadata": {},
   "outputs": [
    {
     "name": "stdout",
     "output_type": "stream",
     "text": [
      "['D3', 'D7', 'D8', 'D9', 'D15'] ['H2', 'H3', 'H4', 'H6', 'H7', 'H8', 'H9', 'H10', 'H11', 'H13', 'H14', 'H15', 'H16', 'H17', 'H18', 'I2', 'I3', 'I4', 'I6', 'I7', 'I8', 'I9', 'I10', 'I11', 'I13', 'I14', 'I15', 'I16', 'I17', 'I18']\n"
     ]
    }
   ],
   "source": [
    "print(ERR1, ERR2)"
   ]
  },
  {
   "cell_type": "code",
   "execution_count": 14,
   "id": "5e4e1c33",
   "metadata": {},
   "outputs": [],
   "source": [
    "wb = xw.Book('recipes_model.xlsx')\n",
    "wb.sheets.add('Ошибки заполнения')\n",
    "err_sh = wb.sheets['Ошибки заполнения']\n",
    "\n",
    "err_1 = \"Первичный ключ не может быть NULL\"\n",
    "err_2 = \"Не указано поле для связи по внешнему ключу\"\n",
    "\n",
    "data1 = pd.DataFrame(ERR1, columns=['№ строки'])\n",
    "data2 = pd.DataFrame(ERR2)\n",
    "\n",
    "data1['Ошибка'] = err_1\n",
    "data2['Ошибка'] = err_2\n",
    "\n",
    "err_sh.range('A1').options(index=False, header=True).value = data1\n",
    "err_sh.range(f'A{data1.shape[0]+1}').options(index=False, header=False).value = data2\n",
    "xw.Range('B6').autofit()\n",
    "\n",
    "# print(data1.shape[0]) #5\n",
    "\n",
    "wb.save()\n",
    "wb.close()"
   ]
  },
  {
   "cell_type": "markdown",
   "id": "fcfdf252",
   "metadata": {},
   "source": [
    "8. Посчитайте количество атрибутов для каждой из сущностей. Создайте лист `Статистика` и запишите в него результат группировки, начиная с ячейки \"А1\". Визуализируйте полученный результат при помощи столбчатой диаграммы. Сохраните полученную визуализацию на лист `Статистика`, начиная с ячейки \"E2\".  Сделайте скриншот листа `Статистика` и прикрепите в ячейку ноутбука.\n",
    "\n",
    "* Вы можете воспользоваться методами для визуализации, которые поставляются вместе с объектами `pandas` (см. https://pandas.pydata.org/docs/reference/api/pandas.DataFrame.plot) "
   ]
  },
  {
   "cell_type": "code",
   "execution_count": 15,
   "id": "14869e54",
   "metadata": {},
   "outputs": [],
   "source": [
    "# wb = xw.Book('recipes_model.xlsx')\n",
    "# wb.sheets.add('Статистика')\n",
    "# stats = wb.sheets['Статистика']\n",
    "\n",
    "# for el in range(data.shape[0]):\n",
    "#     stats.range(f'A{el + 1}').options(index=False, header=False).value = data.shape[1] - (data == '').sum(axis=1)[el]\n",
    "\n",
    "# wb.save()\n",
    "# wb.close()"
   ]
  },
  {
   "cell_type": "code",
   "execution_count": 16,
   "id": "767032cf",
   "metadata": {},
   "outputs": [],
   "source": [
    "# worksheet = workbook.get_worksheet_by_name('Статистика')\n",
    "\n",
    "# chart = workbook.add_chart({'type': 'column'})\n",
    "# for el in range(data.shape[0]):\n",
    "#     chart.add_series({'values': f'=A{el + 1}'})\n",
    "\n",
    "# worksheet\n",
    "\n",
    "# wb.save()\n",
    "# wb.close()"
   ]
  },
  {
   "cell_type": "code",
   "execution_count": 17,
   "id": "e983b349",
   "metadata": {},
   "outputs": [],
   "source": [
    "workbook = xlsxwriter.Workbook('recipes_model.xlsx')\n",
    "worksheet = workbook.add_worksheet('Статистика')\n",
    "\n",
    "data3 = []\n",
    "\n",
    "for el in range(data.shape[0]):\n",
    "    data3.append(data.shape[1] - (data == '').sum(axis=1)[el])\n",
    "\n",
    "\n",
    "worksheet.write_column('A1', data3)\n",
    "\n",
    "# Create a new chart object.\n",
    "chart = workbook.add_chart({'type': 'column'})\n",
    "\n",
    "# Add a series to the chart.\n",
    "chart.add_series({'values': f'=Статистика!A$1$:A${data.shape[0]}$'})\n",
    "\n",
    "# Insert the chart into the worksheet.\n",
    "worksheet.insert_chart('E2', chart)\n",
    "\n",
    "workbook.close()"
   ]
  }
 ],
 "metadata": {
  "kernelspec": {
   "display_name": "Python 3.8.10 64-bit (microsoft store)",
   "language": "python",
   "name": "python3"
  },
  "language_info": {
   "codemirror_mode": {
    "name": "ipython",
    "version": 3
   },
   "file_extension": ".py",
   "mimetype": "text/x-python",
   "name": "python",
   "nbconvert_exporter": "python",
   "pygments_lexer": "ipython3",
   "version": "3.8.10"
  },
  "vscode": {
   "interpreter": {
    "hash": "95a22eaad15357b8581a3e85dc7deb44b392b83f2a0c98c7572069d11874febe"
   }
  }
 },
 "nbformat": 4,
 "nbformat_minor": 5
}
