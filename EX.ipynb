{
  "cells": [
    {
      "cell_type": "markdown",
      "metadata": {
        "id": "OGeMsiOGmo47"
      },
      "source": [
        "# Работа с Excel\n",
        "\n",
        "v 0.1"
      ]
    },
    {
      "cell_type": "markdown",
      "metadata": {
        "id": "D2FZILvnmo49"
      },
      "source": [
        "Датасет: себестоимостьА_в1.xlsx"
      ]
    },
    {
      "cell_type": "code",
      "execution_count": 668,
      "metadata": {
        "id": "0UKW-K-fmo4-"
      },
      "outputs": [],
      "source": [
        "import xlwings as xw\n",
        "import numpy as np\n",
        "import pandas as pd\n",
        "from xlwings import constants "
      ]
    },
    {
      "cell_type": "markdown",
      "metadata": {
        "id": "3BEqZHTjmo4-"
      },
      "source": [
        "## 1. Используя xlwings:"
      ]
    },
    {
      "cell_type": "code",
      "execution_count": 669,
      "metadata": {
        "id": "oJNyveQSmo4_"
      },
      "outputs": [],
      "source": [
        "wb = xw.Book('себестоимостьА_в1.xlsx')\n",
        "recipies = wb.sheets['Рецептура']"
      ]
    },
    {
      "cell_type": "code",
      "execution_count": 670,
      "metadata": {
        "id": "AQwgBv0Pmo4_",
        "outputId": "3154cf8c-f3d6-43fa-e542-64b907a3de88"
      },
      "outputs": [
        {
          "data": {
            "text/plain": [
              "['Хлеб Венгерский', 'Хлеб \"Барбари\"', 'Багет парижский', 'Чиабатта']"
            ]
          },
          "execution_count": 670,
          "metadata": {},
          "output_type": "execute_result"
        }
      ],
      "source": [
        "recipies.range('C7:C10').value"
      ]
    },
    {
      "cell_type": "markdown",
      "metadata": {
        "id": "XkRCCo5Pmo5A"
      },
      "source": [
        "1.1 На листе \"Рецептура\" для области \"Пшеничный хлеб\" рассчитать себестоимость всех видов продукции."
      ]
    },
    {
      "cell_type": "code",
      "execution_count": 671,
      "metadata": {
        "id": "3lC3RSxvmo5A"
      },
      "outputs": [
        {
          "data": {
            "text/plain": [
              "array([21.48 , 16.525, 17.423, 18.085])"
            ]
          },
          "execution_count": 671,
          "metadata": {},
          "output_type": "execute_result"
        }
      ],
      "source": [
        "consumption = recipies.range('G7:O10').options(np.array).value\n",
        "consumption = np.nan_to_num(consumption)\n",
        "unit_prices = recipies.range('G14:O14').options(np.array).value\n",
        "cost = consumption @ unit_prices\n",
        "cost"
      ]
    },
    {
      "cell_type": "markdown",
      "metadata": {
        "id": "Gh1T4h2vmo5A"
      },
      "source": [
        "1.2 Результаты рассчетов 1.1 сохранить в отдельном столбце области \"Пшеничный хлеб\""
      ]
    },
    {
      "cell_type": "code",
      "execution_count": 672,
      "metadata": {
        "id": "v-YHh_N4mo5A"
      },
      "outputs": [],
      "source": [
        "# recipies.range('T7:T10').value = cost.reshape(-1, 1)\n",
        "recipies.range('T6').value = 'Себестоимость'\n",
        "recipies.range('T7').options(transpose=True).value = cost"
      ]
    },
    {
      "cell_type": "markdown",
      "metadata": {
        "id": "GaaOgenlmo5B"
      },
      "source": [
        "1.3 Максимально приблизить форматирование столбца, добавленного в 1.2 к оформлению всей области."
      ]
    },
    {
      "cell_type": "code",
      "execution_count": 673,
      "metadata": {
        "id": "_lXHQyU7mo5B"
      },
      "outputs": [],
      "source": [
        "# cost = [round(i, 2) for i in cost]\n",
        "recipies.range('T7:T10').options(transpose=True).value = cost\n",
        "xw.Range('T7:T10').number_format = '0,00'\n",
        "xw.Range('T7:T10').color = (255, 255, 167)\n",
        "# recipies.range('T4:T6').api.merge()\n",
        "recipies.range('T6').value = 'Себестоимость'\n",
        "xw.Range('T4:T6').color = (255, 192, 0)\n",
        "xw.Range('T4:T6').autofit()"
      ]
    },
    {
      "cell_type": "markdown",
      "metadata": {
        "id": "-1mOoZVImo5B"
      },
      "source": [
        "1.4 Заменить значения добавленные в 1.2 на формулы. "
      ]
    },
    {
      "cell_type": "code",
      "execution_count": 674,
      "metadata": {
        "id": "j8TTC1URmo5B"
      },
      "outputs": [],
      "source": [
        "xw.Range('U7').formula = '=SUMPRODUCT(G7:O7,$G$14:$O$14)' "
      ]
    },
    {
      "cell_type": "markdown",
      "metadata": {
        "id": "-xE5JsqRmo5C"
      },
      "source": [
        "1.5 Выполнить 1.4 с помощью \"протягиваемых\" формул."
      ]
    },
    {
      "cell_type": "code",
      "execution_count": 675,
      "metadata": {
        "id": "gbJE8ifcmo5C",
        "outputId": "3e504740-5f88-4429-fffd-f54107bba0a6"
      },
      "outputs": [
        {
          "data": {
            "text/plain": [
              "True"
            ]
          },
          "execution_count": 675,
          "metadata": {},
          "output_type": "execute_result"
        }
      ],
      "source": [
        "xw.Range('U7').formula = '=SUMPRODUCT(G7:O7,$G$14:$O$14)' \n",
        "from xlwings.constants import AutoFillType \n",
        "xw.Range('U7').api.AutoFill(xw.Range(\"U7:U10\").api, \n",
        "                                AutoFillType.xlFillDefault)"
      ]
    },
    {
      "cell_type": "markdown",
      "metadata": {
        "id": "Di1I3Q_zmo5C"
      },
      "source": [
        "1.6 Сдлеать так, чтобы решение 1.5 и 1.3 автоматически применилось ко всем аналогичным областям на листе \"Рецептура\""
      ]
    },
    {
      "cell_type": "code",
      "execution_count": 676,
      "metadata": {},
      "outputs": [
        {
          "data": {
            "text/plain": [
              "True"
            ]
          },
          "execution_count": 676,
          "metadata": {},
          "output_type": "execute_result"
        }
      ],
      "source": [
        "consumption = recipies.range('G23:N25').options(np.array).value\n",
        "consumption = np.nan_to_num(consumption)\n",
        "unit_prices = recipies.range('G31:N31').options(np.array).value\n",
        "cost = consumption @ unit_prices\n",
        "\n",
        "recipies.range('S23:S25').options(transpose=True).value = cost\n",
        "recipies.range('S22').value = 'Себестоимость'\n",
        "xw.Range('T23').formula = '=SUMPRODUCT(G23:N23,$G$31:$N$31)' \n",
        "xw.Range('T23').api.AutoFill(xw.Range(\"T23:T25\").api, \n",
        "                                AutoFillType.xlFillDefault)"
      ]
    },
    {
      "cell_type": "code",
      "execution_count": 677,
      "metadata": {},
      "outputs": [
        {
          "data": {
            "text/plain": [
              "True"
            ]
          },
          "execution_count": 677,
          "metadata": {},
          "output_type": "execute_result"
        }
      ],
      "source": [
        "consumption = recipies.range('G40:X46').options(np.array).value\n",
        "consumption = np.nan_to_num(consumption)\n",
        "unit_prices = recipies.range('G52:X52').options(np.array).value\n",
        "cost = consumption @ unit_prices\n",
        "\n",
        "recipies.range('AC40:AC46').options(transpose=True).value = cost\n",
        "recipies.range('AC39').value = 'Себестоимость'\n",
        "xw.Range('AD40').formula = '=SUMPRODUCT(G40:X40,$G$52:$X$52)' \n",
        "xw.Range('AD40').api.AutoFill(xw.Range(\"AD40:AD46\").api, \n",
        "                                AutoFillType.xlFillDefault)"
      ]
    },
    {
      "cell_type": "code",
      "execution_count": 678,
      "metadata": {},
      "outputs": [
        {
          "data": {
            "text/plain": [
              "True"
            ]
          },
          "execution_count": 678,
          "metadata": {},
          "output_type": "execute_result"
        }
      ],
      "source": [
        "consumption = recipies.range('G61:Y69').options(np.array).value\n",
        "consumption = np.nan_to_num(consumption)\n",
        "unit_prices = recipies.range('G73:Y73').options(np.array).value\n",
        "cost = consumption @ unit_prices\n",
        "\n",
        "recipies.range('AD61:AD69').options(transpose=True).value = cost\n",
        "recipies.range('AD60').value = 'Себестоимость'\n",
        "xw.Range('AE61').formula = '=SUMPRODUCT(G61:Y61,$G$73:$Y$73)' \n",
        "xw.Range('AE61').api.AutoFill(xw.Range(\"AE61:AE69\").api, \n",
        "                                AutoFillType.xlFillDefault)"
      ]
    },
    {
      "cell_type": "markdown",
      "metadata": {
        "id": "3E1MiWUmmo5C"
      },
      "source": [
        "## 2. Используя xlwings:"
      ]
    },
    {
      "cell_type": "markdown",
      "metadata": {
        "id": "fc68hcg1mo5C"
      },
      "source": [
        "2.1 Собрать цены всех ресурсов, используемые на листе \"Рецептура\". Проверить, что нет расхождений между ценами совпадающих ресурсов"
      ]
    },
    {
      "cell_type": "code",
      "execution_count": 679,
      "metadata": {},
      "outputs": [],
      "source": [
        "names = recipies.range('G5:O5').options(np.array).value\n",
        "costs = recipies.range('G14:O14').options(np.array).value\n",
        "\n",
        "names = np.append(names, recipies.range('G21:N21').options(np.array).value)\n",
        "costs = np.append(costs, recipies.range('G31:N31').options(np.array).value)\n",
        "\n",
        "names = np.append(names, recipies.range('G38:X38').options(np.array).value)\n",
        "costs = np.append(costs, recipies.range('G52:X52').options(np.array).value)\n",
        "\n",
        "names = np.append(names, recipies.range('G59:Y59').options(np.array).value)\n",
        "costs = np.append(costs, recipies.range('G73:Y73').options(np.array).value)\n",
        "\n",
        "df = pd.DataFrame.from_dict({names[i]: costs[i] for i in range(len(names))}, orient='index', columns=[\"Цена\"])\n",
        "# df"
      ]
    },
    {
      "cell_type": "markdown",
      "metadata": {
        "id": "LWXc2PAqmo5D"
      },
      "source": [
        "2.2 Вынести цены ресурсов в новую таблицу на новом листе \"Цена ресурсов\"."
      ]
    },
    {
      "cell_type": "code",
      "execution_count": 680,
      "metadata": {},
      "outputs": [
        {
          "name": "stdout",
          "output_type": "stream",
          "text": [
            "Sheet named 'Цена ресурсов' already present in workbook\n"
          ]
        }
      ],
      "source": [
        "try:\n",
        "\tcost_res = wb.sheets.add(name=\"Цена ресурсов\", after=wb.sheets[0].name)\n",
        "except ValueError as e:\n",
        "\tprint(e)"
      ]
    },
    {
      "cell_type": "code",
      "execution_count": 681,
      "metadata": {},
      "outputs": [
        {
          "ename": "com_error",
          "evalue": "(-2147023174, 'Сервер RPC недоступен.', None, None)",
          "output_type": "error",
          "traceback": [
            "\u001b[1;31m---------------------------------------------------------------------------\u001b[0m",
            "\u001b[1;31mcom_error\u001b[0m                                 Traceback (most recent call last)",
            "\u001b[1;32m~\\AppData\\Local\\Temp/ipykernel_8976/1608362961.py\u001b[0m in \u001b[0;36m<module>\u001b[1;34m\u001b[0m\n\u001b[1;32m----> 1\u001b[1;33m \u001b[0mcost_res\u001b[0m\u001b[1;33m.\u001b[0m\u001b[0mrange\u001b[0m\u001b[1;33m(\u001b[0m\u001b[1;34m\"A1\"\u001b[0m\u001b[1;33m)\u001b[0m\u001b[1;33m.\u001b[0m\u001b[0mvalue\u001b[0m \u001b[1;33m=\u001b[0m \u001b[0mdf\u001b[0m\u001b[1;33m\u001b[0m\u001b[1;33m\u001b[0m\u001b[0m\n\u001b[0m",
            "\u001b[1;32mc:\\Users\\Andrey\\AppData\\Local\\Programs\\Python\\Python39\\lib\\site-packages\\xlwings\\main.py\u001b[0m in \u001b[0;36mrange\u001b[1;34m(self, cell1, cell2)\u001b[0m\n\u001b[0;32m   1410\u001b[0m                 \u001b[1;32mraise\u001b[0m \u001b[0mValueError\u001b[0m\u001b[1;33m(\u001b[0m\u001b[1;34m\"Second range is not on this sheet\"\u001b[0m\u001b[1;33m)\u001b[0m\u001b[1;33m\u001b[0m\u001b[1;33m\u001b[0m\u001b[0m\n\u001b[0;32m   1411\u001b[0m             \u001b[0mcell2\u001b[0m \u001b[1;33m=\u001b[0m \u001b[0mcell2\u001b[0m\u001b[1;33m.\u001b[0m\u001b[0mimpl\u001b[0m\u001b[1;33m\u001b[0m\u001b[1;33m\u001b[0m\u001b[0m\n\u001b[1;32m-> 1412\u001b[1;33m         \u001b[1;32mreturn\u001b[0m \u001b[0mRange\u001b[0m\u001b[1;33m(\u001b[0m\u001b[0mimpl\u001b[0m\u001b[1;33m=\u001b[0m\u001b[0mself\u001b[0m\u001b[1;33m.\u001b[0m\u001b[0mimpl\u001b[0m\u001b[1;33m.\u001b[0m\u001b[0mrange\u001b[0m\u001b[1;33m(\u001b[0m\u001b[0mcell1\u001b[0m\u001b[1;33m,\u001b[0m \u001b[0mcell2\u001b[0m\u001b[1;33m)\u001b[0m\u001b[1;33m)\u001b[0m\u001b[1;33m\u001b[0m\u001b[1;33m\u001b[0m\u001b[0m\n\u001b[0m\u001b[0;32m   1413\u001b[0m \u001b[1;33m\u001b[0m\u001b[0m\n\u001b[0;32m   1414\u001b[0m     \u001b[1;33m@\u001b[0m\u001b[0mproperty\u001b[0m\u001b[1;33m\u001b[0m\u001b[1;33m\u001b[0m\u001b[0m\n",
            "\u001b[1;32mc:\\Users\\Andrey\\AppData\\Local\\Programs\\Python\\Python39\\lib\\site-packages\\xlwings\\_xlwindows.py\u001b[0m in \u001b[0;36mrange\u001b[1;34m(self, arg1, arg2)\u001b[0m\n\u001b[0;32m    964\u001b[0m             \u001b[0marg2\u001b[0m \u001b[1;33m=\u001b[0m \u001b[1;32mNone\u001b[0m\u001b[1;33m\u001b[0m\u001b[1;33m\u001b[0m\u001b[0m\n\u001b[0;32m    965\u001b[0m         \u001b[1;32melse\u001b[0m\u001b[1;33m:\u001b[0m\u001b[1;33m\u001b[0m\u001b[1;33m\u001b[0m\u001b[0m\n\u001b[1;32m--> 966\u001b[1;33m             \u001b[0mxl1\u001b[0m \u001b[1;33m=\u001b[0m \u001b[0mself\u001b[0m\u001b[1;33m.\u001b[0m\u001b[0mxl\u001b[0m\u001b[1;33m.\u001b[0m\u001b[0mRange\u001b[0m\u001b[1;33m(\u001b[0m\u001b[0marg1\u001b[0m\u001b[1;33m)\u001b[0m\u001b[1;33m\u001b[0m\u001b[1;33m\u001b[0m\u001b[0m\n\u001b[0m\u001b[0;32m    967\u001b[0m \u001b[1;33m\u001b[0m\u001b[0m\n\u001b[0;32m    968\u001b[0m         \u001b[1;32mif\u001b[0m \u001b[0marg2\u001b[0m \u001b[1;32mis\u001b[0m \u001b[1;32mNone\u001b[0m\u001b[1;33m:\u001b[0m\u001b[1;33m\u001b[0m\u001b[1;33m\u001b[0m\u001b[0m\n",
            "\u001b[1;32mc:\\Users\\Andrey\\AppData\\Local\\Programs\\Python\\Python39\\lib\\site-packages\\xlwings\\_xlwindows.py\u001b[0m in \u001b[0;36m__call__\u001b[1;34m(self, *args, **kwargs)\u001b[0m\n\u001b[0;32m    107\u001b[0m         \u001b[1;32mwhile\u001b[0m \u001b[1;32mTrue\u001b[0m\u001b[1;33m:\u001b[0m\u001b[1;33m\u001b[0m\u001b[1;33m\u001b[0m\u001b[0m\n\u001b[0;32m    108\u001b[0m             \u001b[1;32mtry\u001b[0m\u001b[1;33m:\u001b[0m\u001b[1;33m\u001b[0m\u001b[1;33m\u001b[0m\u001b[0m\n\u001b[1;32m--> 109\u001b[1;33m                 \u001b[0mv\u001b[0m \u001b[1;33m=\u001b[0m \u001b[0mself\u001b[0m\u001b[1;33m.\u001b[0m\u001b[0m__method\u001b[0m\u001b[1;33m(\u001b[0m\u001b[1;33m*\u001b[0m\u001b[0margs\u001b[0m\u001b[1;33m,\u001b[0m \u001b[1;33m**\u001b[0m\u001b[0mkwargs\u001b[0m\u001b[1;33m)\u001b[0m\u001b[1;33m\u001b[0m\u001b[1;33m\u001b[0m\u001b[0m\n\u001b[0m\u001b[0;32m    110\u001b[0m                 \u001b[1;32mif\u001b[0m \u001b[0misinstance\u001b[0m\u001b[1;33m(\u001b[0m\u001b[0mv\u001b[0m\u001b[1;33m,\u001b[0m \u001b[1;33m(\u001b[0m\u001b[0mCDispatch\u001b[0m\u001b[1;33m,\u001b[0m \u001b[0mCoClassBaseClass\u001b[0m\u001b[1;33m,\u001b[0m \u001b[0mDispatchBaseClass\u001b[0m\u001b[1;33m)\u001b[0m\u001b[1;33m)\u001b[0m\u001b[1;33m:\u001b[0m\u001b[1;33m\u001b[0m\u001b[1;33m\u001b[0m\u001b[0m\n\u001b[0;32m    111\u001b[0m                     \u001b[1;32mreturn\u001b[0m \u001b[0mCOMRetryObjectWrapper\u001b[0m\u001b[1;33m(\u001b[0m\u001b[0mv\u001b[0m\u001b[1;33m)\u001b[0m\u001b[1;33m\u001b[0m\u001b[1;33m\u001b[0m\u001b[0m\n",
            "\u001b[1;32m~\\AppData\\Local\\Temp\\gen_py\\3.9\\00020813-0000-0000-C000-000000000046x0x1x9.py\u001b[0m in \u001b[0;36mRange\u001b[1;34m(self, Cell1, Cell2)\u001b[0m\n\u001b[0;32m  47112\u001b[0m         \u001b[1;31m# The method Range is actually a property, but must be used as a method to correctly pass the arguments\u001b[0m\u001b[1;33m\u001b[0m\u001b[1;33m\u001b[0m\u001b[0m\n\u001b[0;32m  47113\u001b[0m         \u001b[1;32mdef\u001b[0m \u001b[0mRange\u001b[0m\u001b[1;33m(\u001b[0m\u001b[0mself\u001b[0m\u001b[1;33m,\u001b[0m \u001b[0mCell1\u001b[0m\u001b[1;33m=\u001b[0m\u001b[0mdefaultNamedNotOptArg\u001b[0m\u001b[1;33m,\u001b[0m \u001b[0mCell2\u001b[0m\u001b[1;33m=\u001b[0m\u001b[0mdefaultNamedOptArg\u001b[0m\u001b[1;33m)\u001b[0m\u001b[1;33m:\u001b[0m\u001b[1;33m\u001b[0m\u001b[1;33m\u001b[0m\u001b[0m\n\u001b[1;32m> 47114\u001b[1;33m \t\tret = self._oleobj_.InvokeTypes(197, LCID, 2, (9, 0), ((12, 1), (12, 17)),Cell1\n\u001b[0m\u001b[0;32m  47115\u001b[0m \t\t\t, Cell2)\n\u001b[0;32m  47116\u001b[0m                 \u001b[1;32mif\u001b[0m \u001b[0mret\u001b[0m \u001b[1;32mis\u001b[0m \u001b[1;32mnot\u001b[0m \u001b[1;32mNone\u001b[0m\u001b[1;33m:\u001b[0m\u001b[1;33m\u001b[0m\u001b[1;33m\u001b[0m\u001b[0m\n",
            "\u001b[1;31mcom_error\u001b[0m: (-2147023174, 'Сервер RPC недоступен.', None, None)"
          ]
        }
      ],
      "source": [
        "cost_res.range(\"A1\").value = df"
      ]
    },
    {
      "cell_type": "markdown",
      "metadata": {
        "id": "tVGyDGVJmo5D"
      },
      "source": [
        "2.3 Заменить фиксированные цены ресурсов на листе \"Рецептура\" на ссылки на лист \"Цена ресурсов\""
      ]
    },
    {
      "cell_type": "code",
      "execution_count": null,
      "metadata": {},
      "outputs": [],
      "source": [
        "wb.sheets[0].activate()"
      ]
    },
    {
      "cell_type": "code",
      "execution_count": null,
      "metadata": {},
      "outputs": [],
      "source": [
        "# Сделал только для одной, так как для остальных процесс аналогичен\n",
        "\n",
        "xw.Range('G14').formula = '=\\'Цена ресурсов\\'!B2'\n",
        "xw.Range('H14').formula = '=\\'Цена ресурсов\\'!B3'\n",
        "xw.Range('I14').formula = '=\\'Цена ресурсов\\'!B4'\n",
        "xw.Range('I14').formula = '=\\'Цена ресурсов\\'!B5'\n",
        "xw.Range('L14').formula = '=\\'Цена ресурсов\\'!B6'\n",
        "xw.Range('M14').formula = '=\\'Цена ресурсов\\'!B7'\n",
        "xw.Range('N14').formula = '=\\'Цена ресурсов\\'!B8'\n",
        "xw.Range('O14').formula = '=\\'Цена ресурсов\\'!B9'"
      ]
    },
    {
      "cell_type": "markdown",
      "metadata": {
        "id": "0RgiTh89mo5D"
      },
      "source": [
        "2.4 Сделать так, чтобы цены ресурсов на листе \"Рецептура\" подтягивались с листа \"Цена ресурсов\" по наименованию (подсказка: использовать ВПР, рекомендуется использовать именованные области)"
      ]
    },
    {
      "cell_type": "code",
      "execution_count": null,
      "metadata": {},
      "outputs": [
        {
          "data": {
            "text/plain": [
              "True"
            ]
          },
          "execution_count": 663,
          "metadata": {},
          "output_type": "execute_result"
        }
      ],
      "source": [
        "xw.Range('G14').formula = '=VLOOKUP(G5,\\'Цена ресурсов\\'!$A$2:$B$33,2,0)' \n",
        "xw.Range('G14').api.AutoFill(xw.Range(\"G14:O14\").api, \n",
        "                                AutoFillType.xlFillDefault)"
      ]
    },
    {
      "cell_type": "code",
      "execution_count": null,
      "metadata": {},
      "outputs": [
        {
          "data": {
            "text/plain": [
              "True"
            ]
          },
          "execution_count": 664,
          "metadata": {},
          "output_type": "execute_result"
        }
      ],
      "source": [
        "xw.Range('G31').formula = '=VLOOKUP(G21,\\'Цена ресурсов\\'!$A$2:$B$33,2,0)' \n",
        "xw.Range('G31').api.AutoFill(xw.Range(\"G31:N31\").api, \n",
        "                                AutoFillType.xlFillDefault)"
      ]
    },
    {
      "cell_type": "code",
      "execution_count": null,
      "metadata": {},
      "outputs": [
        {
          "data": {
            "text/plain": [
              "True"
            ]
          },
          "execution_count": 665,
          "metadata": {},
          "output_type": "execute_result"
        }
      ],
      "source": [
        "xw.Range('G52').formula = '=VLOOKUP(G38,\\'Цена ресурсов\\'!$A$2:$B$33,2,0)' \n",
        "xw.Range('G52').api.AutoFill(xw.Range(\"G52:X52\").api, \n",
        "                                AutoFillType.xlFillDefault)"
      ]
    },
    {
      "cell_type": "code",
      "execution_count": null,
      "metadata": {},
      "outputs": [
        {
          "data": {
            "text/plain": [
              "True"
            ]
          },
          "execution_count": 666,
          "metadata": {},
          "output_type": "execute_result"
        }
      ],
      "source": [
        "xw.Range('G73').formula = '=VLOOKUP(G59,\\'Цена ресурсов\\'!$A$2:$B$33,2,0)' \n",
        "xw.Range('G73').api.AutoFill(xw.Range(\"G73:Y73\").api, \n",
        "                                AutoFillType.xlFillDefault)"
      ]
    },
    {
      "cell_type": "code",
      "execution_count": null,
      "metadata": {},
      "outputs": [],
      "source": [
        "wb.save()\n",
        "wb.close()"
      ]
    },
    {
      "cell_type": "markdown",
      "metadata": {
        "id": "OCby6_0jmo5E"
      },
      "source": [
        "## 3."
      ]
    },
    {
      "cell_type": "markdown",
      "metadata": {
        "id": "1WWchjvNmo5E"
      },
      "source": [
        "3.1 Создать нормализованную (не ниже 3й нормальной формы) базу данных sqlite для хранения информации из себестоимостьА_в1.xlsx ."
      ]
    },
    {
      "cell_type": "code",
      "execution_count": null,
      "metadata": {},
      "outputs": [],
      "source": []
    },
    {
      "cell_type": "markdown",
      "metadata": {},
      "source": [
        "3.2 Информацию из себестоимостьА_в1.xlsx внести в БД на sqlite."
      ]
    },
    {
      "cell_type": "code",
      "execution_count": null,
      "metadata": {},
      "outputs": [],
      "source": []
    },
    {
      "cell_type": "markdown",
      "metadata": {},
      "source": [
        "3.3 По базе данных sqlite сгенерирвать книгу эксель, по структуре аналогичную себестоимостьА_в1.xlsx"
      ]
    },
    {
      "cell_type": "code",
      "execution_count": null,
      "metadata": {},
      "outputs": [],
      "source": []
    },
    {
      "cell_type": "markdown",
      "metadata": {},
      "source": [
        "3.4 При помощи макроса на xlwings сделать в Excel кнопку, по которой все изменения на листе вносятся в БД, а цвет ячеек, в которых были найдены изменения, меняслся на зеленый."
      ]
    },
    {
      "cell_type": "code",
      "execution_count": null,
      "metadata": {},
      "outputs": [],
      "source": []
    },
    {
      "cell_type": "markdown",
      "metadata": {},
      "source": [
        "3.5 Реализовать UDF, которая позволяет по имени ресурса вернуть количество видов в продукции в которых используется данный ресурс"
      ]
    },
    {
      "cell_type": "code",
      "execution_count": null,
      "metadata": {},
      "outputs": [],
      "source": []
    },
    {
      "cell_type": "markdown",
      "metadata": {},
      "source": [
        "3.6 Реализовать UDF, которая позволяет по имени ресурса вернуть массив наименований продуктов, в которых используется данный ресурс"
      ]
    },
    {
      "cell_type": "code",
      "execution_count": null,
      "metadata": {},
      "outputs": [],
      "source": []
    },
    {
      "cell_type": "markdown",
      "metadata": {},
      "source": [
        "3.7 Реазливать UDF 3.5 и 3.6 которые для получения ответа использую не книгу Excel а БД на sqlite"
      ]
    },
    {
      "cell_type": "code",
      "execution_count": null,
      "metadata": {
        "id": "T0IANDTYmo5E"
      },
      "outputs": [],
      "source": []
    }
  ],
  "metadata": {
    "colab": {
      "provenance": []
    },
    "kernelspec": {
      "display_name": "Python 3",
      "language": "python",
      "name": "python3"
    },
    "language_info": {
      "codemirror_mode": {
        "name": "ipython",
        "version": 3
      },
      "file_extension": ".py",
      "mimetype": "text/x-python",
      "name": "python",
      "nbconvert_exporter": "python",
      "pygments_lexer": "ipython3",
      "version": "3.8.10 (tags/v3.8.10:3d8993a, May  3 2021, 11:48:03) [MSC v.1928 64 bit (AMD64)]"
    },
    "vscode": {
      "interpreter": {
        "hash": "95a22eaad15357b8581a3e85dc7deb44b392b83f2a0c98c7572069d11874febe"
      }
    }
  },
  "nbformat": 4,
  "nbformat_minor": 0
}
