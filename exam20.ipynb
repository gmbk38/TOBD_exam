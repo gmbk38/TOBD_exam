{
 "cells": [
  {
   "cell_type": "code",
   "execution_count": 125,
   "metadata": {},
   "outputs": [
    {
     "name": "stdout",
     "output_type": "stream",
     "text": [
      "В 1 столбце 12 максимальных значений\n",
      "В 2 столбце 6 максимальных значений\n"
     ]
    },
    {
     "data": {
      "text/plain": [
       "array([[ 4,  3, 12,  3],\n",
       "       [ 0,  5,  4, 13],\n",
       "       [-1,  9,  0,  0],\n",
       "       [-1,  0,  5,  7],\n",
       "       [-1,  2, 12,  3],\n",
       "       [-1,  2,  0,  1],\n",
       "       [ 2,  2,  4, 12],\n",
       "       [ 5, 11,  6,  5],\n",
       "       [ 3,  4, 13,  8],\n",
       "       [-1,  9, 10,  9],\n",
       "       [ 3, 11,  0,  7],\n",
       "       [-1,  3,  2,  0],\n",
       "       [ 8, 14,  7, 12],\n",
       "       [ 7, 11, 10, 12],\n",
       "       [-1,  7,  5,  2],\n",
       "       [-1,  7,  5,  2],\n",
       "       [11,  0, 13,  4],\n",
       "       [-1,  3,  1,  8],\n",
       "       [ 1,  8,  4,  8],\n",
       "       [-1,  5,  3,  2],\n",
       "       [-1,  8,  4, 11],\n",
       "       [ 7, 10,  1,  7],\n",
       "       [ 7,  7, 11, 10],\n",
       "       [-1,  0, 11,  5],\n",
       "       [10, 14,  9, 10]])"
      ]
     },
     "execution_count": 125,
     "metadata": {},
     "output_type": "execute_result"
    }
   ],
   "source": [
    "# Задание 2\n",
    "import numpy as np\n",
    "\n",
    "ar1 = np.random.randint(0, 15, size = (25, 4))\n",
    "# print(ar1.argmax(axis=1))\n",
    "# print(np.sum(np.array(ar1.argmax(axis=1)) == 0))\n",
    "for i in range(4):\n",
    "    if (np.sum(np.array(ar1.argmax(axis=1)) == i) >= 5):\n",
    "        print(f'В {i+1} столбце {np.sum(np.array(ar1.argmax(axis=1)) == i)} максимальных значений')\n",
    "        # i+1 для человеческого восприятия(Начинаем считать с 1, а не с 0)\n",
    "\n",
    "maxIndex = np.array([np.sum(np.array(ar1.argmax(axis=1)) == 0), np.sum(np.array(ar1.argmax(axis=1)) == 1), np.sum(np.array(ar1.argmax(axis=1)) == 2), np.sum(np.array(ar1.argmax(axis=1)) == 3)])\n",
    "maxIndex = maxIndex.argmax()\n",
    "#Получил номер столбца с наибольшим количеством максимумов\n",
    "\n",
    "for i in range(ar1.shape[0]):\n",
    "    if ar1.argmax(axis=1)[i] == maxIndex:\n",
    "        ar1[i][maxIndex] = -1\n",
    "\n",
    "ar1"
   ]
  },
  {
   "cell_type": "code",
   "execution_count": 126,
   "metadata": {},
   "outputs": [],
   "source": [
    "# Задание 3\n",
    "import pickle\n",
    "from bs4 import BeautifulSoup\n",
    "\n",
    "with open(\"addres-book-q.xml\") as file:\n",
    "\tdata = BeautifulSoup(file, 'xml')\n",
    "\n",
    "data\n",
    "male = []\n",
    "female = []\n",
    "\n",
    "for person in data_xml.address_book.find_all(\"address\"):\n",
    "    if person.gender.text == 'm':\n",
    "        if str(person.phones.phone).split('\"')[1] == 'work':\n",
    "            male.append((person.find('name').text, person.company.text, person.phones.phone.text))\n",
    "    else:\n",
    "        if str(person.phones.phone).split('\"')[1] == 'personal':\n",
    "            female.append((person.find('name').text, person.phones.phone.text))\n",
    "\n",
    "\n",
    "with open('male.pickle', 'wb') as f:\n",
    "     pickle.dump(male, f)\n",
    "\n",
    "with open('female.pickle', 'wb') as f:\n",
    "     pickle.dump(female, f)\n",
    "\n",
    "with open('male.pickle', 'rb') as f:\n",
    "    male2 = pickle.load(f)\n",
    "\n",
    "with open('female.pickle', 'rb') as f:\n",
    "    female2 = pickle.load(f)\n",
    "\n",
    "# print(male == male2, female == female2)\n",
    "# Проверка"
   ]
  }
 ],
 "metadata": {
  "kernelspec": {
   "display_name": "Python 3",
   "language": "python",
   "name": "python3"
  },
  "language_info": {
   "codemirror_mode": {
    "name": "ipython",
    "version": 3
   },
   "file_extension": ".py",
   "mimetype": "text/x-python",
   "name": "python",
   "nbconvert_exporter": "python",
   "pygments_lexer": "ipython3",
   "version": "3.8.10 (tags/v3.8.10:3d8993a, May  3 2021, 11:48:03) [MSC v.1928 64 bit (AMD64)]"
  },
  "orig_nbformat": 4,
  "vscode": {
   "interpreter": {
    "hash": "95a22eaad15357b8581a3e85dc7deb44b392b83f2a0c98c7572069d11874febe"
   }
  }
 },
 "nbformat": 4,
 "nbformat_minor": 2
}
